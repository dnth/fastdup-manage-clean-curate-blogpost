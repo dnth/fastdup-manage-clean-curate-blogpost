{
 "cells": [
  {
   "cell_type": "code",
   "execution_count": 1,
   "metadata": {},
   "outputs": [
    {
     "data": {
      "text/plain": [
       "'0.189'"
      ]
     },
     "execution_count": 1,
     "metadata": {},
     "output_type": "execute_result"
    }
   ],
   "source": [
    "from IPython.display import HTML\n",
    "import fastdup\n",
    "fastdup.__version__"
   ]
  },
  {
   "cell_type": "code",
   "execution_count": 2,
   "metadata": {},
   "outputs": [
    {
     "name": "stdout",
     "output_type": "stream",
     "text": [
      "FastDup Software, (C) copyright 2022 Dr. Amir Alush and Dr. Danny Bickson.\n",
      "On Jupyter notebook running on large datasets, there may be delay getting the console output\n",
      "A recommended way to fixing this is to run: \n",
      "%pip install wurlitzer\n",
      "%load_ext wurlitzer\n",
      "\n",
      "Going to loop over dir scene_classification/data/seg_test\n",
      "Found total 3000 images to run on\n",
      "Found total 3000 images to run on■■■■■■■■■■■■■■■■■■] 100% Estimated: 0 Minutes 0 Features■■■■■■■■■■■■■■■■■■■■■■■■■■■■■■■■■■■■■■■■■■■■■■■■■■] 100% Estimated: 0 Minutes 0 Features\n",
      "290) Finished write_index() NN model\n",
      "Stored nn model index file scene_classification/report/test/nnf.index\n",
      "Total time took 8440 ms\n",
      "Found a total of 0 fully identical images (d>0.990), which are 0.00 %\n",
      "Found a total of 2 nearly identical images(d>0.980), which are 0.02 %\n",
      "Found a total of 674 above threshold images (d>0.900), which are 7.49 %\n",
      "Found a total of 300 outlier images         (d<0.050), which are 3.33 %\n",
      "Min distance found 0.401 max distance 0.985\n",
      "Running connected components for ccthreshold 0.960000 hierarchy? 0 \n",
      ".0"
     ]
    },
    {
     "data": {
      "text/plain": [
       "0"
      ]
     },
     "execution_count": 2,
     "metadata": {},
     "output_type": "execute_result"
    }
   ],
   "source": [
    "fastdup.run(input_dir='scene_classification/data/seg_test/', work_dir=\"scene_classification/report/test/\")"
   ]
  },
  {
   "cell_type": "code",
   "execution_count": null,
   "metadata": {},
   "outputs": [],
   "source": [
    "fastdup.create_duplicates_gallery('scene_classification/report/test/similarity.csv', save_path='scene_classification/report/test/', num_images=20, max_width=400)\n",
    "HTML('scene_classification/report/test/similarity.html')"
   ]
  },
  {
   "cell_type": "code",
   "execution_count": null,
   "metadata": {},
   "outputs": [],
   "source": [
    "fastdup.create_outliers_gallery('scene_classification/report/test/outliers.csv', save_path='scene_classification/report/test/', num_images=10, max_width=400)\n",
    "HTML('scene_classification/report/test/outliers.html')"
   ]
  },
  {
   "cell_type": "code",
   "execution_count": null,
   "metadata": {},
   "outputs": [],
   "source": [
    "from fastdup.galleries import do_create_similarity_gallery\n",
    "import os\n",
    "\n",
    "def my_label_func(x):\n",
    "  return x.split('/')[-2]\n",
    "\n",
    "do_create_similarity_gallery(\"scene_classification/report/test/similarity.csv\", save_path=\"scene_classification/report/test/\", get_label_func=my_label_func, num_images=100,\n",
    "                             get_reformat_filename_func=lambda x: os.path.basename(x), max_width=180, slice='label_score', descending=False)\n",
    "\n",
    "HTML('./scene_classification/report/test/topk_similarity.html')\n"
   ]
  },
  {
   "cell_type": "code",
   "execution_count": null,
   "metadata": {},
   "outputs": [],
   "source": [
    "fastdup.create_similarity_gallery(\"scene_classification/report/test/similarity.csv\", save_path=\"scene_classification/report/test/\", get_label_func=my_label_func, num_images=100,\n",
    "                             get_reformat_filename_func=lambda x: os.path.basename(x), max_width=180, slice='label_score', descending=False)\n",
    "\n",
    "HTML('./scene_classification/report/test/topk_similarity.html')"
   ]
  },
  {
   "cell_type": "code",
   "execution_count": null,
   "metadata": {},
   "outputs": [],
   "source": []
  }
 ],
 "metadata": {
  "kernelspec": {
   "display_name": "fastdup",
   "language": "python",
   "name": "python3"
  },
  "language_info": {
   "codemirror_mode": {
    "name": "ipython",
    "version": 3
   },
   "file_extension": ".py",
   "mimetype": "text/x-python",
   "name": "python",
   "nbconvert_exporter": "python",
   "pygments_lexer": "ipython3",
   "version": "3.9.15 (main, Nov 24 2022, 14:31:59) \n[GCC 11.2.0]"
  },
  "orig_nbformat": 4,
  "vscode": {
   "interpreter": {
    "hash": "6bd731ca68e3ff6020cb73d070341fcd5360fd320f04fec494e96902d4604492"
   }
  }
 },
 "nbformat": 4,
 "nbformat_minor": 2
}
